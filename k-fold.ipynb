{
 "cells": [
  {
   "cell_type": "code",
   "execution_count": 94,
   "source": [
    "import numpy as np\n",
    "from sklearn import datasets\n",
    "from sklearn.model_selection import train_test_split\n",
    "from sklearn.model_selection import KFold"
   ],
   "outputs": [],
   "metadata": {}
  },
  {
   "cell_type": "code",
   "execution_count": 95,
   "source": [
    "# 超参数\n",
    "epochs = 200"
   ],
   "outputs": [],
   "metadata": {}
  },
  {
   "cell_type": "code",
   "execution_count": 96,
   "source": [
    "# 参数\n",
    "w, b = np.array([0, 0]), 0"
   ],
   "outputs": [],
   "metadata": {}
  },
  {
   "cell_type": "code",
   "execution_count": 97,
   "source": [
    "# 定义 d(x)\n",
    "def d(x):\n",
    "  return np.dot(w,x)+b"
   ],
   "outputs": [],
   "metadata": {}
  },
  {
   "cell_type": "code",
   "execution_count": 98,
   "source": [
    "# 定义 sign 函数\n",
    "def sign(x):\n",
    "  return 1 if x >= 0 else -1"
   ],
   "outputs": [],
   "metadata": {}
  },
  {
   "cell_type": "code",
   "execution_count": 99,
   "source": [
    "# 定义 h(x) 函数\n",
    "def h(x):\n",
    "  return sign(d(x))"
   ],
   "outputs": [],
   "metadata": {}
  },
  {
   "cell_type": "code",
   "execution_count": 100,
   "source": [
    "def clf_score(X, y):\n",
    "  score = 0\n",
    "  for xi, yi in zip(X, y):\n",
    "     score += yi*h(xi)\n",
    "  return score"
   ],
   "outputs": [],
   "metadata": {}
  },
  {
   "cell_type": "code",
   "execution_count": 101,
   "source": [
    "# 感知机的口袋算法\n",
    "def PLA_pocket(X, y):\n",
    "  global epochs, w, b\n",
    "  \n",
    "  w, b = np.array([0, 0]), 0\n",
    "  best_w, best_b = w\n",
    "  best_cs = clf_score(X, y)\n",
    "  for _ in range(epochs):\n",
    "    for xi, yi in zip(X, y):\n",
    "      if yi*d(xi) <= 0:\n",
    "        w, b = w + yi*xi, b + yi\n",
    "        cs = clf_score(X, y)\n",
    "        if cs > best_cs:\n",
    "          best_cs = cs\n",
    "          best_w, best_b = w, b\n",
    "        break\n",
    "  w, b = best_w, best_b"
   ],
   "outputs": [],
   "metadata": {}
  },
  {
   "cell_type": "code",
   "execution_count": 102,
   "source": [
    "# 开始训练\n",
    "# 载入 iris(鸢尾花) 数据集\n",
    "iris = datasets.load_iris()\n",
    "\n",
    "# 取后面 100 个数据，并且只取最后两个特征，以及取出对应的类别\n",
    "sampleNumber = 100\n",
    "X = iris.data[50:50+sampleNumber, [2,3]]\n",
    "\n",
    "# iris 数据集的类别分别为 0, 1, 2，为了运用我们实现的感知机算法，这里将后两个类别改为 -1, 1\n",
    "y = np.where(iris.target[50:50+sampleNumber] == 1, -1, 1)\n",
    "\n",
    "# 借助 train_test_split 进行随机分割，按照 8 : 2 的比例分为训练验证集、测试集\n",
    "rs = 42\n",
    "X_tv, X_test, y_tv, y_test = train_test_split(X, y, test_size=0.2, random_state=rs, shuffle=True)\n",
    "\n",
    "print(r'总共有 {} 个数据，其中训练验证集有 {} 个数据，测试集中有 {} 个数据。'.format(len(X), len(X_tv), len(X_test)))"
   ],
   "outputs": [
    {
     "output_type": "stream",
     "name": "stdout",
     "text": [
      "总共有 100 个数据，其中训练验证集有 80 个数据，测试集中有 20 个数据。\n"
     ]
    }
   ],
   "metadata": {}
  },
  {
   "cell_type": "code",
   "execution_count": 104,
   "source": [
    "# 在 X_tv 上进行 k 折交叉验证\n",
    "k = 10\n",
    "kf = KFold(n_splits=k, random_state=rs, shuffle=True)\n",
    "\n",
    "test_accuracy = 0\n",
    "for idx, (train_index, test_index) in zip(range(k), kf.split(X_tv)):\n",
    "  X_train, y_train, X_test, y_test = X_tv[train_index], y_tv[train_index], X_tv[test_index], y_tv[test_index]\n",
    "  PLA_pocket(X_train, y_train)\n",
    "  split_train_accuracy = 1 - (len(X_train) - clf_score(X_train, y_train))/2/len(X_train)\n",
    "  split_test_accuracy = 1 - (len(X_test) - clf_score(X_test, y_test))/2/len(X_test)\n",
    "  print(r'第 {} 折，训练集准确率：{:.2%}，验证集准确率 {:.2%}'.format(idx + 1, split_train_accuracy, split_test_accuracy))\n",
    "  test_accuracy += split_test_accuracy\n",
    "print(r'epochs = {}，验证集准确率的平均值为 {:.2%}。'.format(epochs, test_accuracy / k))"
   ],
   "outputs": [
    {
     "output_type": "stream",
     "name": "stdout",
     "text": [
      "第 1 折，训练集准确率：79.17%，验证集准确率 87.50%\n",
      "第 2 折，训练集准确率：94.44%，验证集准确率 87.50%\n",
      "第 3 折，训练集准确率：95.83%，验证集准确率 75.00%\n",
      "第 4 折，训练集准确率：94.44%，验证集准确率 100.00%\n",
      "第 5 折，训练集准确率：94.44%，验证集准确率 87.50%\n",
      "第 6 折，训练集准确率：94.44%，验证集准确率 100.00%\n",
      "第 7 折，训练集准确率：94.44%，验证集准确率 100.00%\n",
      "第 8 折，训练集准确率：95.83%，验证集准确率 87.50%\n",
      "第 9 折，训练集准确率：94.44%，验证集准确率 100.00%\n",
      "第 10 折，训练集准确率：97.22%，验证集准确率 87.50%\n",
      "epochs = 200，验证集准确率的平均值为 91.25%。\n"
     ]
    }
   ],
   "metadata": {}
  },
  {
   "cell_type": "code",
   "execution_count": null,
   "source": [],
   "outputs": [],
   "metadata": {}
  }
 ],
 "metadata": {
  "orig_nbformat": 4,
  "language_info": {
   "name": "python",
   "version": "3.8.8",
   "mimetype": "text/x-python",
   "codemirror_mode": {
    "name": "ipython",
    "version": 3
   },
   "pygments_lexer": "ipython3",
   "nbconvert_exporter": "python",
   "file_extension": ".py"
  },
  "kernelspec": {
   "name": "python3",
   "display_name": "Python 3.8.8 64-bit ('base': conda)"
  },
  "interpreter": {
   "hash": "6ffef3e48026023316a80b25c57639a0c5f7715771dc0d9de23939d8c75f5efb"
  }
 },
 "nbformat": 4,
 "nbformat_minor": 2
}