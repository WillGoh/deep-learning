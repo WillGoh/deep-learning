{
 "cells": [
  {
   "cell_type": "code",
   "execution_count": 8,
   "source": [
    "from sympy import symbols, diff, solve\n",
    "import numpy as np"
   ],
   "outputs": [],
   "metadata": {}
  },
  {
   "cell_type": "code",
   "execution_count": 9,
   "source": [
    "# 数据集 D\n",
    "X = np.array([1.51, 1.64, 1.6, 1.73, 1.82, 1.87])\n",
    "y = np.array([1.63, 1.7, 1.71, 1.72, 1.76, 1.86])"
   ],
   "outputs": [],
   "metadata": {}
  },
  {
   "cell_type": "code",
   "execution_count": 17,
   "source": [
    "# 构造经验误差函数\n",
    "w, b = symbols('w b', real=True)\n",
    "RDh = 0\n",
    "for (xi, yi) in zip(X, y):\n",
    "  RDh += (yi - (xi*w + b))**2\n",
    "  print(\"xi*w + b: {}\".format((yi - (xi*w + b))**2))\n",
    "RDh *= 1/len(X)\n",
    "\n",
    "# 对 w 和 b 求偏导\n",
    "eRDhw = diff(RDh, w)\n",
    "eRDhb = diff(RDh, b)\n",
    "\n",
    "# 求解方程组\n",
    "ans = solve((eRDhw, eRDhb), (w, b))\n",
    "print(\"使得经验误差函数 RD(h) 取最小值得参数为：{}\".format(ans))"
   ],
   "outputs": [
    {
     "output_type": "stream",
     "name": "stdout",
     "text": [
      "xi*w + b: -b - 1.51*w + 1.63\n",
      "xi*w + b: -b - 1.64*w + 1.7\n",
      "xi*w + b: -b - 1.6*w + 1.71\n",
      "xi*w + b: -b - 1.73*w + 1.72\n",
      "xi*w + b: -b - 1.82*w + 1.76\n",
      "xi*w + b: -b - 1.87*w + 1.86\n",
      "使得经验误差函数 RD(h) 取最小值得参数为：{w: 0.514133333333440, b: 0.858543999999819}\n"
     ]
    }
   ],
   "metadata": {}
  },
  {
   "cell_type": "code",
   "execution_count": null,
   "source": [],
   "outputs": [],
   "metadata": {}
  }
 ],
 "metadata": {
  "orig_nbformat": 4,
  "language_info": {
   "name": "python",
   "version": "3.8.8",
   "mimetype": "text/x-python",
   "codemirror_mode": {
    "name": "ipython",
    "version": 3
   },
   "pygments_lexer": "ipython3",
   "nbconvert_exporter": "python",
   "file_extension": ".py"
  },
  "kernelspec": {
   "name": "python3",
   "display_name": "Python 3.8.8 64-bit ('base': conda)"
  },
  "interpreter": {
   "hash": "6ffef3e48026023316a80b25c57639a0c5f7715771dc0d9de23939d8c75f5efb"
  }
 },
 "nbformat": 4,
 "nbformat_minor": 2
}