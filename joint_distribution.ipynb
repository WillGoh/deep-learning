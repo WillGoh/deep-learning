{
 "cells": [
  {
   "cell_type": "code",
   "execution_count": 1,
   "source": [
    "import matplotlib.pyplot as plt\n",
    "import numpy as np\n",
    "from sklearn.preprocessing import PolynomialFeatures\n",
    "from sklearn.linear_model import LinearRegression"
   ],
   "outputs": [],
   "metadata": {}
  },
  {
   "cell_type": "code",
   "execution_count": 2,
   "source": [
    "x_min, x_max = 1, 2.5"
   ],
   "outputs": [],
   "metadata": {}
  },
  {
   "cell_type": "code",
   "execution_count": 3,
   "source": [
    "# 上帝函数 y=f(x)\n",
    "def f(x):\n",
    "  return 0.51*x+0.86\n"
   ],
   "outputs": [],
   "metadata": {}
  },
  {
   "cell_type": "code",
   "execution_count": 4,
   "source": [
    "# 上帝分布 P(Y|X)\n",
    "def P(X):\n",
    "  # f(x) 加上期望为 0，标准差为 0.1 的高斯噪音\n",
    "  return f(X) + np.random.normal(loc=0, scale=0.1, size=X.shape)"
   ],
   "outputs": [],
   "metadata": {}
  },
  {
   "cell_type": "code",
   "execution_count": 5,
   "source": [
    "# 通过 P(X, Y) 生成数据集 D\n",
    "# X 服从期望为 1.718，标准差为 0.3 的正态分布\n",
    "X = np.random.normal(loc=1.718, scale=0.3, size=10)\n",
    "y = P(X)"
   ],
   "outputs": [],
   "metadata": {}
  },
  {
   "cell_type": "code",
   "execution_count": 12,
   "source": [
    "# 绘制代码\n",
    "# 设置字体大小\n",
    "plt.rcParams.update({'font.size': 12})\n",
    "# 设置 subfigure\n",
    "fig, ax = plt.subplots(figsize=(6, 3))\n",
    "plt.subplots_adjust(left=0.25, right=0.75, top=0.999, bottom=0.08)\n",
    "ax.set_xlabel('x'), ax.set_ylabel('y')\n",
    "ax.set(xticks=[], yticks=[])\n",
    "ax.set_xlim(x_min, x_max)\n",
    "\n",
    "# 绘制数据集\n",
    "ax.scatter(x=X, y=y)\n",
    "\n",
    "# 绘制 f(x)\n",
    "xx = np.linspace(x_min, x_max)\n",
    "ax.plot(xx, f(xx), 'k--')\n",
    "\n",
    "plt.show()"
   ],
   "outputs": [
    {
     "output_type": "display_data",
     "data": {
      "text/plain": [
       "<Figure size 432x216 with 1 Axes>"
      ],
      "image/svg+xml": "<?xml version=\"1.0\" encoding=\"utf-8\" standalone=\"no\"?>\n<!DOCTYPE svg PUBLIC \"-//W3C//DTD SVG 1.1//EN\"\n  \"http://www.w3.org/Graphics/SVG/1.1/DTD/svg11.dtd\">\n<!-- Created with matplotlib (https://matplotlib.org/) -->\n<svg height=\"228.51775pt\" version=\"1.1\" viewBox=\"0 0 246.01375 228.51775\" width=\"246.01375pt\" xmlns=\"http://www.w3.org/2000/svg\" xmlns:xlink=\"http://www.w3.org/1999/xlink\">\n <metadata>\n  <rdf:RDF xmlns:cc=\"http://creativecommons.org/ns#\" xmlns:dc=\"http://purl.org/dc/elements/1.1/\" xmlns:rdf=\"http://www.w3.org/1999/02/22-rdf-syntax-ns#\">\n   <cc:Work>\n    <dc:type rdf:resource=\"http://purl.org/dc/dcmitype/StillImage\"/>\n    <dc:date>2021-08-18T18:47:26.719795</dc:date>\n    <dc:format>image/svg+xml</dc:format>\n    <dc:creator>\n     <cc:Agent>\n      <dc:title>Matplotlib v3.3.4, https://matplotlib.org/</dc:title>\n     </cc:Agent>\n    </dc:creator>\n   </cc:Work>\n  </rdf:RDF>\n </metadata>\n <defs>\n  <style type=\"text/css\">*{stroke-linecap:butt;stroke-linejoin:round;}</style>\n </defs>\n <g id=\"figure_1\">\n  <g id=\"patch_1\">\n   <path d=\"M 0 228.51775 \nL 246.01375 228.51775 \nL 246.01375 -0 \nL 0 -0 \nz\n\" style=\"fill:none;\"/>\n  </g>\n  <g id=\"axes_1\">\n   <g id=\"patch_2\">\n    <path d=\"M 22.81375 205.704 \nL 238.81375 205.704 \nL 238.81375 7.2 \nL 22.81375 7.2 \nz\n\" style=\"fill:#ffffff;\"/>\n   </g>\n   <g id=\"PathCollection_1\">\n    <defs>\n     <path d=\"M 0 3 \nC 0.795609 3 1.55874 2.683901 2.12132 2.12132 \nC 2.683901 1.55874 3 0.795609 3 0 \nC 3 -0.795609 2.683901 -1.55874 2.12132 -2.12132 \nC 1.55874 -2.683901 0.795609 -3 0 -3 \nC -0.795609 -3 -1.55874 -2.683901 -2.12132 -2.12132 \nC -2.683901 -1.55874 -3 -0.795609 -3 0 \nC -3 0.795609 -2.683901 1.55874 -2.12132 2.12132 \nC -1.55874 2.683901 -0.795609 3 0 3 \nz\n\" id=\"mb936e18066\" style=\"stroke:#1f77b4;\"/>\n    </defs>\n    <g clip-path=\"url(#p8047bdc959)\">\n     <use style=\"fill:#1f77b4;stroke:#1f77b4;\" x=\"117.813797\" xlink:href=\"#mb936e18066\" y=\"116.865335\"/>\n     <use style=\"fill:#1f77b4;stroke:#1f77b4;\" x=\"109.975619\" xlink:href=\"#mb936e18066\" y=\"122.930223\"/>\n     <use style=\"fill:#1f77b4;stroke:#1f77b4;\" x=\"98.966405\" xlink:href=\"#mb936e18066\" y=\"123.366153\"/>\n     <use style=\"fill:#1f77b4;stroke:#1f77b4;\" x=\"145.174894\" xlink:href=\"#mb936e18066\" y=\"128.311114\"/>\n     <use style=\"fill:#1f77b4;stroke:#1f77b4;\" x=\"147.215684\" xlink:href=\"#mb936e18066\" y=\"110.817232\"/>\n     <use style=\"fill:#1f77b4;stroke:#1f77b4;\" x=\"208.325705\" xlink:href=\"#mb936e18066\" y=\"57.305626\"/>\n     <use style=\"fill:#1f77b4;stroke:#1f77b4;\" x=\"74.821395\" xlink:href=\"#mb936e18066\" y=\"107.739964\"/>\n     <use style=\"fill:#1f77b4;stroke:#1f77b4;\" x=\"206.542503\" xlink:href=\"#mb936e18066\" y=\"58.681731\"/>\n     <use style=\"fill:#1f77b4;stroke:#1f77b4;\" x=\"185.053579\" xlink:href=\"#mb936e18066\" y=\"83.677731\"/>\n     <use style=\"fill:#1f77b4;stroke:#1f77b4;\" x=\"194.400414\" xlink:href=\"#mb936e18066\" y=\"45.118834\"/>\n    </g>\n   </g>\n   <g id=\"matplotlib.axis_1\">\n    <g id=\"text_1\">\n     <!-- x -->\n     <g transform=\"translate(127.2625 218.822125)scale(0.12 -0.12)\">\n      <defs>\n       <path d=\"M 54.890625 54.6875 \nL 35.109375 28.078125 \nL 55.90625 0 \nL 45.3125 0 \nL 29.390625 21.484375 \nL 13.484375 0 \nL 2.875 0 \nL 24.125 28.609375 \nL 4.6875 54.6875 \nL 15.28125 54.6875 \nL 29.78125 35.203125 \nL 44.28125 54.6875 \nz\n\" id=\"DejaVuSans-120\"/>\n      </defs>\n      <use xlink:href=\"#DejaVuSans-120\"/>\n     </g>\n    </g>\n   </g>\n   <g id=\"matplotlib.axis_2\">\n    <g id=\"text_2\">\n     <!-- y -->\n     <g transform=\"translate(16.318125 110.00325)rotate(-90)scale(0.12 -0.12)\">\n      <defs>\n       <path d=\"M 32.171875 -5.078125 \nQ 28.375 -14.84375 24.75 -17.8125 \nQ 21.140625 -20.796875 15.09375 -20.796875 \nL 7.90625 -20.796875 \nL 7.90625 -13.28125 \nL 13.1875 -13.28125 \nQ 16.890625 -13.28125 18.9375 -11.515625 \nQ 21 -9.765625 23.484375 -3.21875 \nL 25.09375 0.875 \nL 2.984375 54.6875 \nL 12.5 54.6875 \nL 29.59375 11.921875 \nL 46.6875 54.6875 \nL 56.203125 54.6875 \nz\n\" id=\"DejaVuSans-121\"/>\n      </defs>\n      <use xlink:href=\"#DejaVuSans-121\"/>\n     </g>\n    </g>\n   </g>\n   <g id=\"line2d_1\">\n    <path clip-path=\"url(#p8047bdc959)\" d=\"M 22.81375 196.681091 \nL 27.221913 192.998271 \nL 31.630077 189.315451 \nL 36.03824 185.632631 \nL 40.446403 181.949811 \nL 44.854566 178.266991 \nL 49.26273 174.584171 \nL 53.670893 170.901351 \nL 58.079056 167.218531 \nL 62.487219 163.535711 \nL 66.895383 159.852891 \nL 71.303546 156.170071 \nL 75.711709 152.48725 \nL 80.119872 148.80443 \nL 84.528036 145.12161 \nL 88.936199 141.43879 \nL 93.344362 137.75597 \nL 97.752526 134.07315 \nL 102.160689 130.39033 \nL 106.568852 126.70751 \nL 110.977015 123.02469 \nL 115.385179 119.34187 \nL 119.793342 115.65905 \nL 124.201505 111.97623 \nL 128.609668 108.29341 \nL 133.017832 104.61059 \nL 137.425995 100.92777 \nL 141.834158 97.24495 \nL 146.242321 93.56213 \nL 150.650485 89.87931 \nL 155.058648 86.19649 \nL 159.466811 82.51367 \nL 163.874974 78.83085 \nL 168.283138 75.14803 \nL 172.691301 71.46521 \nL 177.099464 67.78239 \nL 181.507628 64.09957 \nL 185.915791 60.41675 \nL 190.323954 56.733929 \nL 194.732117 53.051109 \nL 199.140281 49.368289 \nL 203.548444 45.685469 \nL 207.956607 42.002649 \nL 212.36477 38.319829 \nL 216.772934 34.637009 \nL 221.181097 30.954189 \nL 225.58926 27.271369 \nL 229.997423 23.588549 \nL 234.405587 19.905729 \nL 238.81375 16.222909 \n\" style=\"fill:none;stroke:#000000;stroke-dasharray:5.55,2.4;stroke-dashoffset:0;stroke-width:1.5;\"/>\n   </g>\n   <g id=\"patch_3\">\n    <path d=\"M 22.81375 205.704 \nL 22.81375 7.2 \n\" style=\"fill:none;stroke:#000000;stroke-linecap:square;stroke-linejoin:miter;stroke-width:0.8;\"/>\n   </g>\n   <g id=\"patch_4\">\n    <path d=\"M 238.81375 205.704 \nL 238.81375 7.2 \n\" style=\"fill:none;stroke:#000000;stroke-linecap:square;stroke-linejoin:miter;stroke-width:0.8;\"/>\n   </g>\n   <g id=\"patch_5\">\n    <path d=\"M 22.81375 205.704 \nL 238.81375 205.704 \n\" style=\"fill:none;stroke:#000000;stroke-linecap:square;stroke-linejoin:miter;stroke-width:0.8;\"/>\n   </g>\n   <g id=\"patch_6\">\n    <path d=\"M 22.81375 7.2 \nL 238.81375 7.2 \n\" style=\"fill:none;stroke:#000000;stroke-linecap:square;stroke-linejoin:miter;stroke-width:0.8;\"/>\n   </g>\n  </g>\n </g>\n <defs>\n  <clipPath id=\"p8047bdc959\">\n   <rect height=\"198.504\" width=\"216\" x=\"22.81375\" y=\"7.2\"/>\n  </clipPath>\n </defs>\n</svg>\n",
      "image/png": "[encoded data removed]"
     },
     "metadata": {}
    }
   ],
   "metadata": {}
  },
  {
   "cell_type": "code",
   "execution_count": null,
   "source": [],
   "outputs": [],
   "metadata": {}
  }
 ],
 "metadata": {
  "orig_nbformat": 4,
  "language_info": {
   "name": "python",
   "version": "3.8.8",
   "mimetype": "text/x-python",
   "codemirror_mode": {
    "name": "ipython",
    "version": 3
   },
   "pygments_lexer": "ipython3",
   "nbconvert_exporter": "python",
   "file_extension": ".py"
  },
  "kernelspec": {
   "name": "python3",
   "display_name": "Python 3.8.8 64-bit ('base': conda)"
  },
  "interpreter": {
   "hash": "6ffef3e48026023316a80b25c57639a0c5f7715771dc0d9de23939d8c75f5efb"
  }
 },
 "nbformat": 4,
 "nbformat_minor": 2
}