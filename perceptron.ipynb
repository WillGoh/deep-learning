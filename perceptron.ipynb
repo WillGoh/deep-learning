{
 "cells": [
  {
   "cell_type": "code",
   "execution_count": 2,
   "source": [
    "import numpy as np"
   ],
   "outputs": [],
   "metadata": {}
  },
  {
   "cell_type": "code",
   "execution_count": 3,
   "source": [
    "# 初始化 w 和 b\n",
    "w, b = np.array([0, 0]), 0"
   ],
   "outputs": [],
   "metadata": {}
  },
  {
   "cell_type": "code",
   "execution_count": 4,
   "source": [
    "# 定义 d(x) 函数\n",
    "def d(x):\n",
    "  return np.dot(w, x) + b"
   ],
   "outputs": [],
   "metadata": {}
  },
  {
   "cell_type": "code",
   "execution_count": 5,
   "source": [
    "# 历史信用卡发行数据\n",
    "X = np.array([[5,2], [3,2], [2,7], [1,4], [6,1], [4,5]])\n",
    "y = np.array([-1, -1, 1, 1, -1, 1])"
   ],
   "outputs": [],
   "metadata": {}
  },
  {
   "cell_type": "code",
   "execution_count": 6,
   "source": [
    "# 感知机的暴力实现\n",
    "is_modified = True # 记录是否有分错的店\n",
    "while is_modified:\n",
    "  is_modified = False\n",
    "\n",
    "  # 顺序遍历数据集 X\n",
    "  for xi, yi in zip(X, y):\n",
    "    # 如果有分错的\n",
    "    if yi*d(xi) <= 0:\n",
    "      # 更新法向量 w 和 b\n",
    "      w, b = w + yi * xi, b + yi\n",
    "      is_modified = True\n",
    "      break\n",
    "\n",
    "print('w: {}, b: {}'.format(w, b))\n"
   ],
   "outputs": [
    {
     "output_type": "stream",
     "name": "stdout",
     "text": [
      "w: [-7  6], b: -1\n"
     ]
    }
   ],
   "metadata": {}
  },
  {
   "cell_type": "code",
   "execution_count": null,
   "source": [],
   "outputs": [],
   "metadata": {}
  }
 ],
 "metadata": {
  "orig_nbformat": 4,
  "language_info": {
   "name": "python",
   "version": "3.8.8",
   "mimetype": "text/x-python",
   "codemirror_mode": {
    "name": "ipython",
    "version": 3
   },
   "pygments_lexer": "ipython3",
   "nbconvert_exporter": "python",
   "file_extension": ".py"
  },
  "kernelspec": {
   "name": "python3",
   "display_name": "Python 3.8.8 64-bit ('base': conda)"
  },
  "interpreter": {
   "hash": "6ffef3e48026023316a80b25c57639a0c5f7715771dc0d9de23939d8c75f5efb"
  }
 },
 "nbformat": 4,
 "nbformat_minor": 2
}