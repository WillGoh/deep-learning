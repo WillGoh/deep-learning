{
 "cells": [
  {
   "cell_type": "code",
   "execution_count": 2,
   "source": [
    "import numpy as np"
   ],
   "outputs": [],
   "metadata": {}
  },
  {
   "cell_type": "code",
   "execution_count": 3,
   "source": [
    "w, b = np.array([0, 0]), 0"
   ],
   "outputs": [],
   "metadata": {}
  },
  {
   "cell_type": "code",
   "execution_count": 4,
   "source": [
    "def d(x):\n",
    "  return np.dot(w, x) + b"
   ],
   "outputs": [],
   "metadata": {}
  },
  {
   "cell_type": "code",
   "execution_count": 5,
   "source": [
    "# 定义 sign 函数\n",
    "def sign(x):\n",
    "  return 1 if x >= 0 else -1"
   ],
   "outputs": [],
   "metadata": {}
  },
  {
   "cell_type": "code",
   "execution_count": 6,
   "source": [
    "# 定义 h(x) 函数\n",
    "def h(x):\n",
    "  return sign(d(x))"
   ],
   "outputs": [],
   "metadata": {}
  },
  {
   "cell_type": "code",
   "execution_count": 7,
   "source": [
    "# 计算决策边界的评分\n",
    "def clf_score(X, y):\n",
    "  score = 0\n",
    "  for xi, yi in zip(X, y):\n",
    "    score += yi*h(xi)\n",
    "  return score"
   ],
   "outputs": [],
   "metadata": {}
  },
  {
   "cell_type": "code",
   "execution_count": 8,
   "source": [
    "# 历史信用卡发行数据，该数据不是线性可分的\n",
    "X = np.array([[5,2], [3,2], [2,7], [1,4], [6,1], [4,5], [2,4.5]])\n",
    "y = np.array([-1, -1, 1, 1, -1, 1, -1])"
   ],
   "outputs": [],
   "metadata": {}
  },
  {
   "cell_type": "code",
   "execution_count": 9,
   "source": [
    "# 感知机的口袋算法\n",
    "\n",
    "best_w, best_b = w, b\n",
    "best_cs = clf_score(X, y)\n",
    "epochs = 10\n",
    "\n",
    "# 顺序遍历数据集 X\n",
    "for _ in range(epochs):\n",
    "  for xi, yi in zip(X, y):\n",
    "    # 如果有分错的\n",
    "    if yi*d(xi) <= 0:\n",
    "      # 更新法向量 w 和 b\n",
    "      w, b = w + yi * xi, b + yi\n",
    "      # 对新得到的决策边界进行评分\n",
    "      cs = clf_score(X, y)\n",
    "      # 如果更好，则进行更新\n",
    "      if cs > best_cs:\n",
    "        best_cs = cs\n",
    "        best_w, best_b = w, b\n",
    "      break\n",
    "w, b = best_w, best_b\n",
    "\n",
    "print('w: {}, b: {}'.format(w, b))"
   ],
   "outputs": [
    {
     "output_type": "stream",
     "name": "stdout",
     "text": [
      "w: [-7.  6.], b: -1\n"
     ]
    }
   ],
   "metadata": {}
  },
  {
   "cell_type": "code",
   "execution_count": null,
   "source": [],
   "outputs": [],
   "metadata": {}
  }
 ],
 "metadata": {
  "orig_nbformat": 4,
  "language_info": {
   "name": "python",
   "version": "3.8.8",
   "mimetype": "text/x-python",
   "codemirror_mode": {
    "name": "ipython",
    "version": 3
   },
   "pygments_lexer": "ipython3",
   "nbconvert_exporter": "python",
   "file_extension": ".py"
  },
  "kernelspec": {
   "name": "python3",
   "display_name": "Python 3.8.8 64-bit ('base': conda)"
  },
  "interpreter": {
   "hash": "6ffef3e48026023316a80b25c57639a0c5f7715771dc0d9de23939d8c75f5efb"
  }
 },
 "nbformat": 4,
 "nbformat_minor": 2
}